{
 "cells": [
  {
   "cell_type": "markdown",
   "metadata": {},
   "source": [
    "<img src=\"itesologo.JPG\" style=\"width: 200px;\" align=\"center\" /> \n",
    "\n",
    "\n",
    "\n",
    "\n"
   ]
  },
  {
   "cell_type": "markdown",
   "metadata": {},
   "source": [
    "# Presentación Tarea 1 : \n",
    "\n",
    "# Israel Castillo Herrera\n",
    "\n",
    "### *21 años.*\n",
    "### *Ingeniería Financiera*"
   ]
  },
  {
   "cell_type": "markdown",
   "metadata": {},
   "source": [
    "*En esta lista voy a enumerar algunos detalles míos, incluyendo materias que ya he cursado:*\n",
    "\n",
    "* Me gusta coleccionar libros\n",
    "* Me gusta leer\n",
    "* Me gusta la música\n",
    "* Soy cantante de música de opera\n",
    "* Ingles/Francés/Italiano\n",
    "\n",
    "**Algunas materias ya cursadas:**\n",
    "\n",
    "1. Currículum\n",
    "    1. Bolsa de valores\n",
    "    2. Ingeniería Financiera\n",
    "    3. Simulación Financiera\n",
    "2. Matemáticas\n",
    "    1. Cálculo Diferencial\n",
    "    2. Cálculo Integral\n",
    "    3. Ecuaciones Diferenciales\n",
    "    4. Cálculo Multivariado \n",
    "3. Materias de Tronco Común\n",
    "    1. Super\n",
    "    2. Aburridas\n",
    "    3. E innecesarias\n",
    "\n"
   ]
  },
  {
   "cell_type": "markdown",
   "metadata": {},
   "source": [
    "### _Ahora el resumen de los textos_\n",
    "\n",
    "\n",
    "<span style=\"color:blue\">Primer texto:</span> \n",
    "_**Python is becoming the world’s most popular coding language**_\n",
    "\n"
   ]
  },
  {
   "cell_type": "markdown",
   "metadata": {},
   "source": [
    "<img src=\"image1.png\" style=\"width: 350px;\" align=\"center\" /> "
   ]
  },
  {
   "cell_type": "markdown",
   "metadata": {},
   "source": [
    "Segun el artículo, las ventajas del lenguaje son su **simplicidad** y **flexibilidad**. Lo cual lo hace uy fácil de aprender, gracias tambien al uso de **indentaciones**.\n",
    "\n",
    "\n",
    "Sus *software packages* cubren temáticas desde diseño de juegos, hasta astronomía. Y puede ser insertado en segundos a cualquier plataforma *Python*.\n",
    "\n",
    "\n",
    "Aún cuando parezca ser que será el idioma dominante, no se espera que los \"consuma\", aún que tenga potencial de ser la *lingua franca*, cada lenguaje tendrá su nicho para el cual fue creado. **C+ y C** no serán reemplazados.\n",
    "\n"
   ]
  },
  {
   "cell_type": "markdown",
   "metadata": {},
   "source": [
    "<span style=\"color:blue\">Segundo texto:</span> \n",
    "_**Python has brought computer programming to a vast new audience**_ \n"
   ]
  },
  {
   "cell_type": "markdown",
   "metadata": {},
   "source": [
    "<img src=\"https://www.economist.com/sites/default/files/imagecache/1280-width/images/print-edition/20180721_STD001_0.jpg\" style=\"width: 350px;\" align=\"center\" /> "
   ]
  },
  {
   "cell_type": "markdown",
   "metadata": {},
   "source": [
    "El artículo habla primeramente sobre los **principios** que buscaba el creador del lenguaje: \n",
    "1. *Fácil de leer*. \n",
    "2. *Debería dejar crear a los clientes sus **paquetes especiales de módulos de código**. Y que pueda ser usado en nuevos programas. \n",
    "3. Un nombre corto, unico y *misterioso*\n",
    "\n",
    "\n",
    "<span style=\"color:blue\">Trivia:</span> El repositorio de paquetes se llama *Cheese Shop*.\n",
    "\n",
    "\n",
    "Casi el 40% de los desarrolladores profesionales lo usan, con un 25% que desearian, según *Stack Overflow*. \n",
    "\n",
    "Aunque otro lenguajes tienen mayor poder de procesamiento, complejidad, y otros propósitos diferentes, *Python* tiene **sintáxis simpe**, y un gran repositorio de **paquetes de 3eros**.\n",
    "\n",
    "\n",
    "Es aún más útil para participantes que necesitan herramientas de tablas, en roles como ** *análisis financiero* **. \n",
    "\n",
    "<span style=\"color:red\">Desventajas:</span>\n",
    "\n",
    "1. La posibilidad de que no se conozca lo que pasa \"bajo el capote\". \n",
    "2. Puede caer en la mera especialización de ciencia, tecnología, ingeniería y matemáticas. Sin tocar elementos más versátiles de desarrollo. "
   ]
  },
  {
   "cell_type": "markdown",
   "metadata": {},
   "source": [
    "**_Fuentes_**\n",
    "\n",
    "\n",
    "\n",
    "1. **Python is becoming the world’s most popular coding language**. (2018). Retrieved from https://www.economist.com/graphic-detail/2018/07/26/python-is-becoming-the-worlds-most-popular-coding-language\n",
    "\n",
    "2. **Python has brought computer programming to a vast new audience.** (2018). Retrieved from https://www.economist.com/science-and-technology/2018/07/19/python-has-brought-computer-programming-to-a-vast-new-audience"
   ]
  }
 ],
 "metadata": {
  "kernelspec": {
   "display_name": "Python 3",
   "language": "python",
   "name": "python3"
  },
  "language_info": {
   "codemirror_mode": {
    "name": "ipython",
    "version": 3
   },
   "file_extension": ".py",
   "mimetype": "text/x-python",
   "name": "python",
   "nbconvert_exporter": "python",
   "pygments_lexer": "ipython3",
   "version": "3.6.1"
  }
 },
 "nbformat": 4,
 "nbformat_minor": 2
}
