{
 "cells": [
  {
   "cell_type": "markdown",
   "metadata": {},
   "source": [
    "# Selección óptima de portafolios II\n",
    "\n",
    "<img style=\"float: right; margin: 0px 0px 15px 15px;\" src=\"https://upload.wikimedia.org/wikipedia/commons/thumb/6/6e/Separation_theorem_of_MPT.svg/2000px-Separation_theorem_of_MPT.svg.png\" width=\"400px\" height=\"400px\" />\n",
    "\n",
    "Entonces, tenemos que:\n",
    "- La LAC describe las posibles selecciones de riesgo-rendimiento entre un activo libre de riesgo y un activo riesgoso.\n",
    "- Su pendiente es igual al radio de Sharpe del activo riesgoso.\n",
    "- La asignación óptima de capital para cualquier inversionista es el punto tangente de la curva de indiferencia del inversionista con la LAC.\n",
    "\n",
    "Para todo lo anterior, supusimos que ya teníamos el portafolio óptimo (activo riesgoso).\n",
    "\n",
    "En la clase pasada aprendimos a hallar este portafolio óptimo si el conjunto de activos riesgosos estaba conformado únicamente por dos activos:\n",
    "\n",
    "$$w_{1,EMV}=\\frac{(E[r_1]-r_f)\\sigma_2^2-(E[r_2]-r_f)\\sigma_{12}}{(E[r_2]-r_f)\\sigma_1^2+(E[r_1]-r_f)\\sigma_2^2-((E[r_1]-r_f)+(E[r_2]-r_f))\\sigma_{12}}.$$\n",
    "\n",
    "- Sin embargo, la complejidad del problema crece considerablemente con el número de variables, y la solución analítica deja de ser viable cuando mencionamos que un portafolio bien diversificado consta aproximadamente de 50-60 activos.\n",
    "- En esos casos, este problema se soluciona con rutinas numéricas que hagan la optimización por nosotros, porque son una solución viable y escalable a más variables.\n",
    " \n",
    "\n",
    "**Objetivos:**\n",
    "- ¿Cuál es el portafolio óptimo de activos riesgosos cuando tenemos más de dos activos?\n",
    " - ¿Cómo construir la frontera de mínima varianza cuando tenemos más de dos activos?\n",
    "\n",
    "*Referencia:*\n",
    "- Notas del curso \"Portfolio Selection and Risk Management\", Rice University, disponible en Coursera.\n",
    "___"
   ]
  },
  {
   "cell_type": "markdown",
   "metadata": {},
   "source": [
    "## 1. Maximizando el radio de Sharpe\n",
    "\n",
    "### ¿Qué pasa si tenemos más de dos activos riesgosos?\n",
    "\n",
    "En realidad es algo muy similar a lo que teníamos con dos activos.\n",
    "- Para dos activos, construir la frontera de mínima varianza es trivial: todas las posibles combinaciones.\n",
    "- Con más de dos activos, recordar la definición: la frontera de mínima varianza es el lugar geométrico de los portafolios que proveen el mínimo riesgo para un nivel de rendimiento dado.\n",
    "\n",
    "<font color=blue> Ver en el tablero.</font>"
   ]
  },
  {
   "cell_type": "markdown",
   "metadata": {},
   "source": [
    "Analíticamente:\n",
    "- $N$ activos, \n",
    "- caracterizados por $(\\sigma_i,E[r_i])$,\n",
    "- cada uno con peso $w_i$, con $i=1,2,\\dots,N$.\n",
    "\n",
    "Entonces, buscamos los pesos tales que\n",
    "\n",
    "\\begin{align}\n",
    "\\min_{w_1,\\dots,w_n} & \\quad \\sum_{i=1}^{N}w_i^2\\sigma_i^2+\\sum_{i=1}^{N}\\sum_{j=1,j\\neq i}^{N}w_iw_j\\sigma_{ij}\\\\\n",
    "\\text{s.a.}          & \\quad \\sum_{i=1}^{N}w_i=1, w_i\\geq0\\\\\n",
    "                     & \\quad \\sum_{i=1}^{N}w_iE[r_i]=\\bar{\\mu},\n",
    "\\end{align}\n",
    "\n",
    "donde $\\bar{\\mu}$ corresponde a un nivel de rendimiento objetivo. \n",
    "\n",
    "**Obviamente, tendríamos que resolver este problema para muchos niveles de rendimiento objetivo.**\n",
    "\n",
    "- <font color=blue> Explicar relación con gráfica.</font>\n",
    "\n",
    "- <font color=green> Recordar clase 10.</font>"
   ]
  },
  {
   "cell_type": "markdown",
   "metadata": {},
   "source": [
    "Lo anterior se puede escribir vectorialmente como:"
   ]
  },
  {
   "cell_type": "markdown",
   "metadata": {},
   "source": [
    "\\begin{align}\n",
    "\\min_{\\boldsymbol{w}} & \\quad \\boldsymbol{w}^T\\Sigma\\boldsymbol{w}\\\\\n",
    "\\text{s.a.}          & \\quad \\boldsymbol{1}^T\\boldsymbol{w}=1, \\boldsymbol{w}\\geq0\\\\\n",
    "                     & \\quad E[\\boldsymbol{r}^T]\\boldsymbol{w}=\\bar{\\mu},\n",
    "\\end{align}\n",
    "\n",
    "donde:\n",
    "- $\\boldsymbol{w}=\\left[w_1,\\dots,w_N\\right]^T$ es el vector de pesos,\n",
    "- $\\boldsymbol{1}=\\left[1,\\dots,1\\right]^T$ es un vector de unos,\n",
    "- $E[\\boldsymbol{r}]=\\left[E[r_1],\\dots,E[r_N]\\right]^T$ es el vector de rendimientos esperados, y\n",
    "- $\\Sigma=\\left[\\begin{array}{cccc}\\sigma_{1}^2 & \\sigma_{12}  & \\dots  & \\sigma_{1N} \\\\\n",
    "                                   \\sigma_{21}  & \\sigma_{2}^2 & \\dots  & \\sigma_{2N} \\\\\n",
    "                                   \\vdots       & \\vdots       & \\ddots & \\vdots      \\\\\n",
    "                                   \\sigma_{N1}  & \\sigma_{N2}  & \\dots  & \\sigma_{N}^2\\end{array}\\right]$ es la matriz de varianza-covarianza.\n",
    "                                   \n",
    "**Esta última forma es la que comúnmente usamos al programar, por ser eficiente y escalable a problemas de N variables.**"
   ]
  },
  {
   "cell_type": "markdown",
   "metadata": {},
   "source": [
    "### Entonces, ¿para cuántos niveles de rendimiento objetivo tendríamos que resolver el anterior problema con el fin de graficar la frontera de mínima varianza?\n",
    "- Observar que el problema puede volverse muy pesado a medida que incrementamos el número de activos en nuestro portafolio...\n",
    "- Una tarea bastante compleja."
   ]
  },
  {
   "cell_type": "markdown",
   "metadata": {},
   "source": [
    "### Sucede que, en realidad, sólo necesitamos conocer dos portafolios que estén sobre la *frontera de mínima varianza*.\n",
    "- Si logramos encontrar dos portafolios sobre la frontera, entonces podemos a la vez encontrar todas las posibles combinaciones de estos dos portafolios para trazar la frontera de mínima varianza.\n",
    "- Ver el caso de dos activos."
   ]
  },
  {
   "cell_type": "markdown",
   "metadata": {},
   "source": [
    "### ¿Qué portafolios usar?\n",
    "Hasta ahora, hemos estudiando profundamente como hallar dos portafolios muy importantes que de hecho yacen sobre la frontera de mínima varianza:\n",
    "1. Portafolio de EMV: máximo SR.\n",
    "2. Portafolio de mínima varianza: básicamente, el mismo problema anterior, sin la restricción de rendimiento objetivo.\n",
    "\n",
    "Luego, tomar todas las posibles combinaciones de dichos portafolios usando las fórmulas para dos activos de medias y varianzas:\n",
    "- w: peso para el portafolio EMV,\n",
    "- 1-w: peso para le portafolio de mínima varianza."
   ]
  },
  {
   "cell_type": "markdown",
   "metadata": {},
   "source": [
    "## 2. Ejemplo ilustrativo.\n",
    "\n",
    "Retomamos el ejemplo de mercados de acciones en los países integrantes del $G5$: EU, RU, Francia, Alemania y Japón."
   ]
  },
  {
   "cell_type": "code",
   "execution_count": 2,
   "metadata": {
    "collapsed": true
   },
   "outputs": [],
   "source": [
    "# Importamos pandas y numpy\n",
    "import pandas as pd\n",
    "import numpy as np"
   ]
  },
  {
   "cell_type": "code",
   "execution_count": 3,
   "metadata": {},
   "outputs": [
    {
     "data": {
      "text/html": [
       "<div>\n",
       "<style>\n",
       "    .dataframe thead tr:only-child th {\n",
       "        text-align: right;\n",
       "    }\n",
       "\n",
       "    .dataframe thead th {\n",
       "        text-align: left;\n",
       "    }\n",
       "\n",
       "    .dataframe tbody tr th {\n",
       "        vertical-align: top;\n",
       "    }\n",
       "</style>\n",
       "<table border=\"1\" class=\"dataframe\">\n",
       "  <thead>\n",
       "    <tr style=\"text-align: right;\">\n",
       "      <th></th>\n",
       "      <th>EU</th>\n",
       "      <th>RU</th>\n",
       "      <th>Francia</th>\n",
       "      <th>Alemania</th>\n",
       "      <th>Japon</th>\n",
       "    </tr>\n",
       "  </thead>\n",
       "  <tbody>\n",
       "    <tr>\n",
       "      <th>Media</th>\n",
       "      <td>0.1355</td>\n",
       "      <td>0.1589</td>\n",
       "      <td>0.1519</td>\n",
       "      <td>0.1435</td>\n",
       "      <td>0.1497</td>\n",
       "    </tr>\n",
       "    <tr>\n",
       "      <th>Volatilidad</th>\n",
       "      <td>0.1535</td>\n",
       "      <td>0.243</td>\n",
       "      <td>0.2324</td>\n",
       "      <td>0.2038</td>\n",
       "      <td>0.2298</td>\n",
       "    </tr>\n",
       "  </tbody>\n",
       "</table>\n",
       "</div>"
      ],
      "text/plain": [
       "                 EU      RU Francia Alemania   Japon\n",
       "Media        0.1355  0.1589  0.1519   0.1435  0.1497\n",
       "Volatilidad  0.1535   0.243  0.2324   0.2038  0.2298"
      ]
     },
     "execution_count": 3,
     "metadata": {},
     "output_type": "execute_result"
    }
   ],
   "source": [
    "# Resumen en base anual de rendimientos esperados y volatilidades\n",
    "annual_ret_summ = pd.DataFrame(columns=['EU', 'RU', 'Francia', 'Alemania', 'Japon'], index=['Media', 'Volatilidad'])\n",
    "annual_ret_summ.loc['Media'] = np.array([0.1355, 0.1589, 0.1519, 0.1435, 0.1497])\n",
    "annual_ret_summ.loc['Volatilidad'] = np.array([0.1535, 0.2430, 0.2324, 0.2038, 0.2298])\n",
    "\n",
    "annual_ret_summ.round(4)"
   ]
  },
  {
   "cell_type": "code",
   "execution_count": 4,
   "metadata": {},
   "outputs": [
    {
     "data": {
      "text/html": [
       "<div>\n",
       "<style>\n",
       "    .dataframe thead tr:only-child th {\n",
       "        text-align: right;\n",
       "    }\n",
       "\n",
       "    .dataframe thead th {\n",
       "        text-align: left;\n",
       "    }\n",
       "\n",
       "    .dataframe tbody tr th {\n",
       "        vertical-align: top;\n",
       "    }\n",
       "</style>\n",
       "<table border=\"1\" class=\"dataframe\">\n",
       "  <thead>\n",
       "    <tr style=\"text-align: right;\">\n",
       "      <th></th>\n",
       "      <th>EU</th>\n",
       "      <th>RU</th>\n",
       "      <th>Francia</th>\n",
       "      <th>Alemania</th>\n",
       "      <th>Japon</th>\n",
       "    </tr>\n",
       "  </thead>\n",
       "  <tbody>\n",
       "    <tr>\n",
       "      <th>EU</th>\n",
       "      <td>1.0000</td>\n",
       "      <td>0.5003</td>\n",
       "      <td>0.4398</td>\n",
       "      <td>0.3681</td>\n",
       "      <td>0.2663</td>\n",
       "    </tr>\n",
       "    <tr>\n",
       "      <th>RU</th>\n",
       "      <td>0.5003</td>\n",
       "      <td>1.0000</td>\n",
       "      <td>0.5420</td>\n",
       "      <td>0.4265</td>\n",
       "      <td>0.3581</td>\n",
       "    </tr>\n",
       "    <tr>\n",
       "      <th>Francia</th>\n",
       "      <td>0.4398</td>\n",
       "      <td>0.5420</td>\n",
       "      <td>1.0000</td>\n",
       "      <td>0.6032</td>\n",
       "      <td>0.3923</td>\n",
       "    </tr>\n",
       "    <tr>\n",
       "      <th>Alemania</th>\n",
       "      <td>0.3681</td>\n",
       "      <td>0.4265</td>\n",
       "      <td>0.6032</td>\n",
       "      <td>1.0000</td>\n",
       "      <td>0.3663</td>\n",
       "    </tr>\n",
       "    <tr>\n",
       "      <th>Japon</th>\n",
       "      <td>0.2663</td>\n",
       "      <td>0.3581</td>\n",
       "      <td>0.3923</td>\n",
       "      <td>0.3663</td>\n",
       "      <td>1.0000</td>\n",
       "    </tr>\n",
       "  </tbody>\n",
       "</table>\n",
       "</div>"
      ],
      "text/plain": [
       "              EU      RU  Francia  Alemania   Japon\n",
       "EU        1.0000  0.5003   0.4398    0.3681  0.2663\n",
       "RU        0.5003  1.0000   0.5420    0.4265  0.3581\n",
       "Francia   0.4398  0.5420   1.0000    0.6032  0.3923\n",
       "Alemania  0.3681  0.4265   0.6032    1.0000  0.3663\n",
       "Japon     0.2663  0.3581   0.3923    0.3663  1.0000"
      ]
     },
     "execution_count": 4,
     "metadata": {},
     "output_type": "execute_result"
    }
   ],
   "source": [
    "# Matriz de correlación\n",
    "corr = pd.DataFrame(data= np.array([[1.0000, 0.5003, 0.4398, 0.3681, 0.2663],\n",
    "                                    [0.5003, 1.0000, 0.5420, 0.4265, 0.3581],\n",
    "                                    [0.4398, 0.5420, 1.0000, 0.6032, 0.3923],\n",
    "                                    [0.3681, 0.4265, 0.6032, 1.0000, 0.3663],\n",
    "                                    [0.2663, 0.3581, 0.3923, 0.3663, 1.0000]]),\n",
    "                    columns=annual_ret_summ.columns, index=annual_ret_summ.columns)\n",
    "corr.round(4)"
   ]
  },
  {
   "cell_type": "code",
   "execution_count": 5,
   "metadata": {
    "collapsed": true
   },
   "outputs": [],
   "source": [
    "# Tasa libre de riesgo\n",
    "rf = 0.05"
   ]
  },
  {
   "cell_type": "markdown",
   "metadata": {},
   "source": [
    "Esta vez, supondremos que tenemos disponibles todos los mercados de acciones y el activo libre de riesgo."
   ]
  },
  {
   "cell_type": "markdown",
   "metadata": {},
   "source": [
    "#### 1. Construir la frontera de mínima varianza"
   ]
  },
  {
   "cell_type": "markdown",
   "metadata": {},
   "source": [
    "##### 1.1. Encontrar portafolio de mínima varianza"
   ]
  },
  {
   "cell_type": "code",
   "execution_count": 6,
   "metadata": {
    "collapsed": true
   },
   "outputs": [],
   "source": [
    "# Importamos minimize del módulo optimize\n",
    "from scipy.optimize import minimize"
   ]
  },
  {
   "cell_type": "code",
   "execution_count": 7,
   "metadata": {},
   "outputs": [],
   "source": [
    "## Construcción de parámetros\n",
    "# 1. Sigma: matriz de varianza-covarianza\n",
    "D = np.diag(annual_ret_summ.loc['Volatilidad'])\n",
    "Sigma = D.dot(corr).dot(D)\n",
    "# 2. Eind: rendimientos esperados activos individuales\n",
    "Eind = np.array(annual_ret_summ.loc['Media'])\n"
   ]
  },
  {
   "cell_type": "code",
   "execution_count": 8,
   "metadata": {
    "collapsed": true
   },
   "outputs": [],
   "source": [
    "# Función objetivo\n",
    "def varianza(w, Sigma):\n",
    "    return w.dot(Sigma).dot(w)"
   ]
  },
  {
   "cell_type": "code",
   "execution_count": 9,
   "metadata": {
    "collapsed": true
   },
   "outputs": [],
   "source": [
    "# Dato inicial\n",
    "w0 = np.ones((5,))/5\n",
    "# Cotas de las variables\n",
    "bnds = ((0,1),)*5\n",
    "# Restricciones\n",
    "cons = ({'type': 'eq', 'fun': lambda w: np.sum(w)-1},)"
   ]
  },
  {
   "cell_type": "code",
   "execution_count": 10,
   "metadata": {},
   "outputs": [
    {
     "data": {
      "text/plain": [
       "     fun: 0.01861776391061502\n",
       "     jac: array([ 0.03718246,  0.03881475,  0.03859101,  0.03755156,  0.0370423 ])\n",
       " message: 'Optimization terminated successfully.'\n",
       "    nfev: 49\n",
       "     nit: 7\n",
       "    njev: 7\n",
       "  status: 0\n",
       " success: True\n",
       "       x: array([  6.17797049e-01,   3.46944695e-18,   0.00000000e+00,\n",
       "         2.09394358e-01,   1.72808594e-01])"
      ]
     },
     "execution_count": 10,
     "metadata": {},
     "output_type": "execute_result"
    }
   ],
   "source": [
    "# Portafolio de mínima varianza\n",
    "minvar= minimize(varianza, w0, args = (Sigma,), bounds = bnds, constraints=cons)\n",
    "minvar"
   ]
  },
  {
   "cell_type": "code",
   "execution_count": 13,
   "metadata": {},
   "outputs": [
    {
     "data": {
      "text/plain": [
       "(array([  6.17797049e-01,   3.46944695e-18,   0.00000000e+00,\n",
       "          2.09394358e-01,   1.72808594e-01]),\n",
       " 0.13962903688859557,\n",
       " 0.13644692708381168)"
      ]
     },
     "execution_count": 13,
     "metadata": {},
     "output_type": "execute_result"
    }
   ],
   "source": [
    "# Pesos, rendimiento y riesgo del portafolio de mínima varianza\n",
    "w_minvar = minvar.x\n",
    "Er_minvar = Eind.dot(w_minvar)\n",
    "s_minvar = np.sqrt(varianza(w_minvar, Sigma))\n",
    "w_minvar, Er_minvar, s_minvar"
   ]
  },
  {
   "cell_type": "code",
   "execution_count": null,
   "metadata": {
    "collapsed": true
   },
   "outputs": [],
   "source": []
  },
  {
   "cell_type": "markdown",
   "metadata": {},
   "source": [
    "##### 1.2. Encontrar portafolio EMV"
   ]
  },
  {
   "cell_type": "code",
   "execution_count": 14,
   "metadata": {
    "collapsed": true
   },
   "outputs": [],
   "source": [
    "# Función objetivo\n",
    "def m_sharpe_r(w, Sigma, rf, Eind):\n",
    "    Erp = Eind.dot(w)\n",
    "    varp = w.dot(Sigma).dot(w)\n",
    "    return -(Erp-rf)/np.sqrt(varp)\n"
   ]
  },
  {
   "cell_type": "code",
   "execution_count": 15,
   "metadata": {
    "collapsed": true
   },
   "outputs": [],
   "source": [
    "# Dato inicial\n",
    "w0 = np.ones((5,))/5\n",
    "# Cotas de las variables\n",
    "bnds = ((0,1),)*5\n",
    "# Restricciones\n",
    "cons = ({'type': 'eq', 'fun': lambda w: np.sum(w)-1},)\n"
   ]
  },
  {
   "cell_type": "code",
   "execution_count": 16,
   "metadata": {},
   "outputs": [
    {
     "data": {
      "text/plain": [
       "     fun: -0.6644372965632436\n",
       "     jac: array([-0.36088951, -0.36076408, -0.36036385, -0.36108153, -0.36062376])\n",
       " message: 'Optimization terminated successfully.'\n",
       "    nfev: 35\n",
       "     nit: 5\n",
       "    njev: 5\n",
       "  status: 0\n",
       " success: True\n",
       "       x: array([ 0.50714174,  0.07470888,  0.02471533,  0.18943972,  0.20399434])"
      ]
     },
     "execution_count": 16,
     "metadata": {},
     "output_type": "execute_result"
    }
   ],
   "source": [
    "# Portafolio EMV\n",
    "EMV = minimize(m_sharpe_r, w0, args=(Sigma,rf, Eind), bounds=bnds, constraints = cons)\n",
    "EMV"
   ]
  },
  {
   "cell_type": "code",
   "execution_count": 17,
   "metadata": {},
   "outputs": [
    {
     "data": {
      "text/plain": [
       "(array([ 0.50714174,  0.07470888,  0.02471533,  0.18943972,  0.20399434]),\n",
       " 0.1420657564717856,\n",
       " 0.13856199365687238)"
      ]
     },
     "execution_count": 17,
     "metadata": {},
     "output_type": "execute_result"
    }
   ],
   "source": [
    "# Pesos, rendimiento y riesgo del portafolio EMV\n",
    "w_EMV = EMV.x\n",
    "Er_EMV = Eind.dot(w_EMV)\n",
    "s_EMV = np.sqrt(w_EMV.dot(Sigma.dot(w_EMV)))\n",
    "w_EMV, Er_EMV, s_EMV"
   ]
  },
  {
   "cell_type": "markdown",
   "metadata": {},
   "source": [
    "##### 1.3. Construir frontera de mínima varianza"
   ]
  },
  {
   "cell_type": "markdown",
   "metadata": {},
   "source": [
    "También debemos encontrar la covarianza (o correlación) entre estos dos portafolios:"
   ]
  },
  {
   "cell_type": "code",
   "execution_count": 18,
   "metadata": {},
   "outputs": [
    {
     "data": {
      "text/plain": [
       "0.018690275386034134"
      ]
     },
     "execution_count": 18,
     "metadata": {},
     "output_type": "execute_result"
    }
   ],
   "source": [
    "# Covarianza entre los portafolios\n",
    "cov = w_minvar.dot(Sigma).dot(w_EMV)\n",
    "cov"
   ]
  },
  {
   "cell_type": "code",
   "execution_count": 19,
   "metadata": {},
   "outputs": [
    {
     "data": {
      "text/plain": [
       "0.98857088941976123"
      ]
     },
     "execution_count": 19,
     "metadata": {},
     "output_type": "execute_result"
    }
   ],
   "source": [
    "# Correlación entre los portafolios\n",
    "corr = cov/(s_minvar*s_EMV)\n",
    "corr"
   ]
  },
  {
   "cell_type": "code",
   "execution_count": 20,
   "metadata": {
    "collapsed": true
   },
   "outputs": [],
   "source": [
    "# Vector de w\n",
    "w = np.linspace(-2, 4, 100)"
   ]
  },
  {
   "cell_type": "code",
   "execution_count": 21,
   "metadata": {},
   "outputs": [
    {
     "data": {
      "text/html": [
       "<div>\n",
       "<style>\n",
       "    .dataframe thead tr:only-child th {\n",
       "        text-align: right;\n",
       "    }\n",
       "\n",
       "    .dataframe thead th {\n",
       "        text-align: left;\n",
       "    }\n",
       "\n",
       "    .dataframe tbody tr th {\n",
       "        vertical-align: top;\n",
       "    }\n",
       "</style>\n",
       "<table border=\"1\" class=\"dataframe\">\n",
       "  <thead>\n",
       "    <tr style=\"text-align: right;\">\n",
       "      <th></th>\n",
       "      <th>w(EMV)</th>\n",
       "      <th>w(minvar)</th>\n",
       "      <th>E[r]</th>\n",
       "      <th>sigma</th>\n",
       "      <th>R.S.</th>\n",
       "    </tr>\n",
       "  </thead>\n",
       "  <tbody>\n",
       "    <tr>\n",
       "      <th>0</th>\n",
       "      <td>-2.000000</td>\n",
       "      <td>3.000000</td>\n",
       "      <td>0.134756</td>\n",
       "      <td>0.141684</td>\n",
       "      <td>0.598203</td>\n",
       "    </tr>\n",
       "    <tr>\n",
       "      <th>1</th>\n",
       "      <td>-1.939394</td>\n",
       "      <td>2.939394</td>\n",
       "      <td>0.134903</td>\n",
       "      <td>0.141346</td>\n",
       "      <td>0.600675</td>\n",
       "    </tr>\n",
       "    <tr>\n",
       "      <th>2</th>\n",
       "      <td>-1.878788</td>\n",
       "      <td>2.878788</td>\n",
       "      <td>0.135051</td>\n",
       "      <td>0.141020</td>\n",
       "      <td>0.603114</td>\n",
       "    </tr>\n",
       "    <tr>\n",
       "      <th>3</th>\n",
       "      <td>-1.818182</td>\n",
       "      <td>2.818182</td>\n",
       "      <td>0.135199</td>\n",
       "      <td>0.140704</td>\n",
       "      <td>0.605518</td>\n",
       "    </tr>\n",
       "    <tr>\n",
       "      <th>4</th>\n",
       "      <td>-1.757576</td>\n",
       "      <td>2.757576</td>\n",
       "      <td>0.135346</td>\n",
       "      <td>0.140398</td>\n",
       "      <td>0.607887</td>\n",
       "    </tr>\n",
       "    <tr>\n",
       "      <th>5</th>\n",
       "      <td>-1.696970</td>\n",
       "      <td>2.696970</td>\n",
       "      <td>0.135494</td>\n",
       "      <td>0.140104</td>\n",
       "      <td>0.610219</td>\n",
       "    </tr>\n",
       "    <tr>\n",
       "      <th>6</th>\n",
       "      <td>-1.636364</td>\n",
       "      <td>2.636364</td>\n",
       "      <td>0.135642</td>\n",
       "      <td>0.139820</td>\n",
       "      <td>0.612514</td>\n",
       "    </tr>\n",
       "    <tr>\n",
       "      <th>7</th>\n",
       "      <td>-1.575758</td>\n",
       "      <td>2.575758</td>\n",
       "      <td>0.135789</td>\n",
       "      <td>0.139547</td>\n",
       "      <td>0.614769</td>\n",
       "    </tr>\n",
       "    <tr>\n",
       "      <th>8</th>\n",
       "      <td>-1.515152</td>\n",
       "      <td>2.515152</td>\n",
       "      <td>0.135937</td>\n",
       "      <td>0.139285</td>\n",
       "      <td>0.616985</td>\n",
       "    </tr>\n",
       "    <tr>\n",
       "      <th>9</th>\n",
       "      <td>-1.454545</td>\n",
       "      <td>2.454545</td>\n",
       "      <td>0.136085</td>\n",
       "      <td>0.139035</td>\n",
       "      <td>0.619160</td>\n",
       "    </tr>\n",
       "    <tr>\n",
       "      <th>10</th>\n",
       "      <td>-1.393939</td>\n",
       "      <td>2.393939</td>\n",
       "      <td>0.136232</td>\n",
       "      <td>0.138795</td>\n",
       "      <td>0.621294</td>\n",
       "    </tr>\n",
       "    <tr>\n",
       "      <th>11</th>\n",
       "      <td>-1.333333</td>\n",
       "      <td>2.333333</td>\n",
       "      <td>0.136380</td>\n",
       "      <td>0.138566</td>\n",
       "      <td>0.623384</td>\n",
       "    </tr>\n",
       "    <tr>\n",
       "      <th>12</th>\n",
       "      <td>-1.272727</td>\n",
       "      <td>2.272727</td>\n",
       "      <td>0.136528</td>\n",
       "      <td>0.138349</td>\n",
       "      <td>0.625431</td>\n",
       "    </tr>\n",
       "    <tr>\n",
       "      <th>13</th>\n",
       "      <td>-1.212121</td>\n",
       "      <td>2.212121</td>\n",
       "      <td>0.136675</td>\n",
       "      <td>0.138143</td>\n",
       "      <td>0.627432</td>\n",
       "    </tr>\n",
       "    <tr>\n",
       "      <th>14</th>\n",
       "      <td>-1.151515</td>\n",
       "      <td>2.151515</td>\n",
       "      <td>0.136823</td>\n",
       "      <td>0.137948</td>\n",
       "      <td>0.629389</td>\n",
       "    </tr>\n",
       "    <tr>\n",
       "      <th>15</th>\n",
       "      <td>-1.090909</td>\n",
       "      <td>2.090909</td>\n",
       "      <td>0.136971</td>\n",
       "      <td>0.137765</td>\n",
       "      <td>0.631298</td>\n",
       "    </tr>\n",
       "    <tr>\n",
       "      <th>16</th>\n",
       "      <td>-1.030303</td>\n",
       "      <td>2.030303</td>\n",
       "      <td>0.137118</td>\n",
       "      <td>0.137593</td>\n",
       "      <td>0.633160</td>\n",
       "    </tr>\n",
       "    <tr>\n",
       "      <th>17</th>\n",
       "      <td>-0.969697</td>\n",
       "      <td>1.969697</td>\n",
       "      <td>0.137266</td>\n",
       "      <td>0.137433</td>\n",
       "      <td>0.634974</td>\n",
       "    </tr>\n",
       "    <tr>\n",
       "      <th>18</th>\n",
       "      <td>-0.909091</td>\n",
       "      <td>1.909091</td>\n",
       "      <td>0.137414</td>\n",
       "      <td>0.137284</td>\n",
       "      <td>0.636739</td>\n",
       "    </tr>\n",
       "    <tr>\n",
       "      <th>19</th>\n",
       "      <td>-0.848485</td>\n",
       "      <td>1.848485</td>\n",
       "      <td>0.137562</td>\n",
       "      <td>0.137146</td>\n",
       "      <td>0.638454</td>\n",
       "    </tr>\n",
       "    <tr>\n",
       "      <th>20</th>\n",
       "      <td>-0.787879</td>\n",
       "      <td>1.787879</td>\n",
       "      <td>0.137709</td>\n",
       "      <td>0.137020</td>\n",
       "      <td>0.640119</td>\n",
       "    </tr>\n",
       "    <tr>\n",
       "      <th>21</th>\n",
       "      <td>-0.727273</td>\n",
       "      <td>1.727273</td>\n",
       "      <td>0.137857</td>\n",
       "      <td>0.136906</td>\n",
       "      <td>0.641732</td>\n",
       "    </tr>\n",
       "    <tr>\n",
       "      <th>22</th>\n",
       "      <td>-0.666667</td>\n",
       "      <td>1.666667</td>\n",
       "      <td>0.138005</td>\n",
       "      <td>0.136803</td>\n",
       "      <td>0.643293</td>\n",
       "    </tr>\n",
       "    <tr>\n",
       "      <th>23</th>\n",
       "      <td>-0.606061</td>\n",
       "      <td>1.606061</td>\n",
       "      <td>0.138152</td>\n",
       "      <td>0.136712</td>\n",
       "      <td>0.644801</td>\n",
       "    </tr>\n",
       "    <tr>\n",
       "      <th>24</th>\n",
       "      <td>-0.545455</td>\n",
       "      <td>1.545455</td>\n",
       "      <td>0.138300</td>\n",
       "      <td>0.136633</td>\n",
       "      <td>0.646256</td>\n",
       "    </tr>\n",
       "    <tr>\n",
       "      <th>25</th>\n",
       "      <td>-0.484848</td>\n",
       "      <td>1.484848</td>\n",
       "      <td>0.138448</td>\n",
       "      <td>0.136565</td>\n",
       "      <td>0.647658</td>\n",
       "    </tr>\n",
       "    <tr>\n",
       "      <th>26</th>\n",
       "      <td>-0.424242</td>\n",
       "      <td>1.424242</td>\n",
       "      <td>0.138595</td>\n",
       "      <td>0.136509</td>\n",
       "      <td>0.649005</td>\n",
       "    </tr>\n",
       "    <tr>\n",
       "      <th>27</th>\n",
       "      <td>-0.363636</td>\n",
       "      <td>1.363636</td>\n",
       "      <td>0.138743</td>\n",
       "      <td>0.136465</td>\n",
       "      <td>0.650297</td>\n",
       "    </tr>\n",
       "    <tr>\n",
       "      <th>28</th>\n",
       "      <td>-0.303030</td>\n",
       "      <td>1.303030</td>\n",
       "      <td>0.138891</td>\n",
       "      <td>0.136433</td>\n",
       "      <td>0.651534</td>\n",
       "    </tr>\n",
       "    <tr>\n",
       "      <th>29</th>\n",
       "      <td>-0.242424</td>\n",
       "      <td>1.242424</td>\n",
       "      <td>0.139038</td>\n",
       "      <td>0.136412</td>\n",
       "      <td>0.652716</td>\n",
       "    </tr>\n",
       "    <tr>\n",
       "      <th>...</th>\n",
       "      <td>...</td>\n",
       "      <td>...</td>\n",
       "      <td>...</td>\n",
       "      <td>...</td>\n",
       "      <td>...</td>\n",
       "    </tr>\n",
       "    <tr>\n",
       "      <th>70</th>\n",
       "      <td>2.242424</td>\n",
       "      <td>-1.242424</td>\n",
       "      <td>0.145093</td>\n",
       "      <td>0.145391</td>\n",
       "      <td>0.654051</td>\n",
       "    </tr>\n",
       "    <tr>\n",
       "      <th>71</th>\n",
       "      <td>2.303030</td>\n",
       "      <td>-1.303030</td>\n",
       "      <td>0.145241</td>\n",
       "      <td>0.145834</td>\n",
       "      <td>0.653076</td>\n",
       "    </tr>\n",
       "    <tr>\n",
       "      <th>72</th>\n",
       "      <td>2.363636</td>\n",
       "      <td>-1.363636</td>\n",
       "      <td>0.145389</td>\n",
       "      <td>0.146287</td>\n",
       "      <td>0.652063</td>\n",
       "    </tr>\n",
       "    <tr>\n",
       "      <th>73</th>\n",
       "      <td>2.424242</td>\n",
       "      <td>-1.424242</td>\n",
       "      <td>0.145536</td>\n",
       "      <td>0.146750</td>\n",
       "      <td>0.651015</td>\n",
       "    </tr>\n",
       "    <tr>\n",
       "      <th>74</th>\n",
       "      <td>2.484848</td>\n",
       "      <td>-1.484848</td>\n",
       "      <td>0.145684</td>\n",
       "      <td>0.147221</td>\n",
       "      <td>0.649932</td>\n",
       "    </tr>\n",
       "    <tr>\n",
       "      <th>75</th>\n",
       "      <td>2.545455</td>\n",
       "      <td>-1.545455</td>\n",
       "      <td>0.145832</td>\n",
       "      <td>0.147703</td>\n",
       "      <td>0.648815</td>\n",
       "    </tr>\n",
       "    <tr>\n",
       "      <th>76</th>\n",
       "      <td>2.606061</td>\n",
       "      <td>-1.606061</td>\n",
       "      <td>0.145979</td>\n",
       "      <td>0.148193</td>\n",
       "      <td>0.647664</td>\n",
       "    </tr>\n",
       "    <tr>\n",
       "      <th>77</th>\n",
       "      <td>2.666667</td>\n",
       "      <td>-1.666667</td>\n",
       "      <td>0.146127</td>\n",
       "      <td>0.148693</td>\n",
       "      <td>0.646481</td>\n",
       "    </tr>\n",
       "    <tr>\n",
       "      <th>78</th>\n",
       "      <td>2.727273</td>\n",
       "      <td>-1.727273</td>\n",
       "      <td>0.146275</td>\n",
       "      <td>0.149201</td>\n",
       "      <td>0.645267</td>\n",
       "    </tr>\n",
       "    <tr>\n",
       "      <th>79</th>\n",
       "      <td>2.787879</td>\n",
       "      <td>-1.787879</td>\n",
       "      <td>0.146422</td>\n",
       "      <td>0.149719</td>\n",
       "      <td>0.644022</td>\n",
       "    </tr>\n",
       "    <tr>\n",
       "      <th>80</th>\n",
       "      <td>2.848485</td>\n",
       "      <td>-1.848485</td>\n",
       "      <td>0.146570</td>\n",
       "      <td>0.150245</td>\n",
       "      <td>0.642748</td>\n",
       "    </tr>\n",
       "    <tr>\n",
       "      <th>81</th>\n",
       "      <td>2.909091</td>\n",
       "      <td>-1.909091</td>\n",
       "      <td>0.146718</td>\n",
       "      <td>0.150781</td>\n",
       "      <td>0.641446</td>\n",
       "    </tr>\n",
       "    <tr>\n",
       "      <th>82</th>\n",
       "      <td>2.969697</td>\n",
       "      <td>-1.969697</td>\n",
       "      <td>0.146865</td>\n",
       "      <td>0.151325</td>\n",
       "      <td>0.640115</td>\n",
       "    </tr>\n",
       "    <tr>\n",
       "      <th>83</th>\n",
       "      <td>3.030303</td>\n",
       "      <td>-2.030303</td>\n",
       "      <td>0.147013</td>\n",
       "      <td>0.151877</td>\n",
       "      <td>0.638759</td>\n",
       "    </tr>\n",
       "    <tr>\n",
       "      <th>84</th>\n",
       "      <td>3.090909</td>\n",
       "      <td>-2.090909</td>\n",
       "      <td>0.147161</td>\n",
       "      <td>0.152439</td>\n",
       "      <td>0.637376</td>\n",
       "    </tr>\n",
       "    <tr>\n",
       "      <th>85</th>\n",
       "      <td>3.151515</td>\n",
       "      <td>-2.151515</td>\n",
       "      <td>0.147308</td>\n",
       "      <td>0.153008</td>\n",
       "      <td>0.635968</td>\n",
       "    </tr>\n",
       "    <tr>\n",
       "      <th>86</th>\n",
       "      <td>3.212121</td>\n",
       "      <td>-2.212121</td>\n",
       "      <td>0.147456</td>\n",
       "      <td>0.153586</td>\n",
       "      <td>0.634537</td>\n",
       "    </tr>\n",
       "    <tr>\n",
       "      <th>87</th>\n",
       "      <td>3.272727</td>\n",
       "      <td>-2.272727</td>\n",
       "      <td>0.147604</td>\n",
       "      <td>0.154172</td>\n",
       "      <td>0.633082</td>\n",
       "    </tr>\n",
       "    <tr>\n",
       "      <th>88</th>\n",
       "      <td>3.333333</td>\n",
       "      <td>-2.333333</td>\n",
       "      <td>0.147751</td>\n",
       "      <td>0.154767</td>\n",
       "      <td>0.631605</td>\n",
       "    </tr>\n",
       "    <tr>\n",
       "      <th>89</th>\n",
       "      <td>3.393939</td>\n",
       "      <td>-2.393939</td>\n",
       "      <td>0.147899</td>\n",
       "      <td>0.155369</td>\n",
       "      <td>0.630107</td>\n",
       "    </tr>\n",
       "    <tr>\n",
       "      <th>90</th>\n",
       "      <td>3.454545</td>\n",
       "      <td>-2.454545</td>\n",
       "      <td>0.148047</td>\n",
       "      <td>0.155979</td>\n",
       "      <td>0.628588</td>\n",
       "    </tr>\n",
       "    <tr>\n",
       "      <th>91</th>\n",
       "      <td>3.515152</td>\n",
       "      <td>-2.515152</td>\n",
       "      <td>0.148194</td>\n",
       "      <td>0.156598</td>\n",
       "      <td>0.627050</td>\n",
       "    </tr>\n",
       "    <tr>\n",
       "      <th>92</th>\n",
       "      <td>3.575758</td>\n",
       "      <td>-2.575758</td>\n",
       "      <td>0.148342</td>\n",
       "      <td>0.157223</td>\n",
       "      <td>0.625493</td>\n",
       "    </tr>\n",
       "    <tr>\n",
       "      <th>93</th>\n",
       "      <td>3.636364</td>\n",
       "      <td>-2.636364</td>\n",
       "      <td>0.148490</td>\n",
       "      <td>0.157857</td>\n",
       "      <td>0.623918</td>\n",
       "    </tr>\n",
       "    <tr>\n",
       "      <th>94</th>\n",
       "      <td>3.696970</td>\n",
       "      <td>-2.696970</td>\n",
       "      <td>0.148638</td>\n",
       "      <td>0.158498</td>\n",
       "      <td>0.622325</td>\n",
       "    </tr>\n",
       "    <tr>\n",
       "      <th>95</th>\n",
       "      <td>3.757576</td>\n",
       "      <td>-2.757576</td>\n",
       "      <td>0.148785</td>\n",
       "      <td>0.159147</td>\n",
       "      <td>0.620717</td>\n",
       "    </tr>\n",
       "    <tr>\n",
       "      <th>96</th>\n",
       "      <td>3.818182</td>\n",
       "      <td>-2.818182</td>\n",
       "      <td>0.148933</td>\n",
       "      <td>0.159803</td>\n",
       "      <td>0.619092</td>\n",
       "    </tr>\n",
       "    <tr>\n",
       "      <th>97</th>\n",
       "      <td>3.878788</td>\n",
       "      <td>-2.878788</td>\n",
       "      <td>0.149081</td>\n",
       "      <td>0.160467</td>\n",
       "      <td>0.617453</td>\n",
       "    </tr>\n",
       "    <tr>\n",
       "      <th>98</th>\n",
       "      <td>3.939394</td>\n",
       "      <td>-2.939394</td>\n",
       "      <td>0.149228</td>\n",
       "      <td>0.161137</td>\n",
       "      <td>0.615800</td>\n",
       "    </tr>\n",
       "    <tr>\n",
       "      <th>99</th>\n",
       "      <td>4.000000</td>\n",
       "      <td>-3.000000</td>\n",
       "      <td>0.149376</td>\n",
       "      <td>0.161815</td>\n",
       "      <td>0.614133</td>\n",
       "    </tr>\n",
       "  </tbody>\n",
       "</table>\n",
       "<p>100 rows × 5 columns</p>\n",
       "</div>"
      ],
      "text/plain": [
       "      w(EMV)  w(minvar)      E[r]     sigma      R.S.\n",
       "0  -2.000000   3.000000  0.134756  0.141684  0.598203\n",
       "1  -1.939394   2.939394  0.134903  0.141346  0.600675\n",
       "2  -1.878788   2.878788  0.135051  0.141020  0.603114\n",
       "3  -1.818182   2.818182  0.135199  0.140704  0.605518\n",
       "4  -1.757576   2.757576  0.135346  0.140398  0.607887\n",
       "5  -1.696970   2.696970  0.135494  0.140104  0.610219\n",
       "6  -1.636364   2.636364  0.135642  0.139820  0.612514\n",
       "7  -1.575758   2.575758  0.135789  0.139547  0.614769\n",
       "8  -1.515152   2.515152  0.135937  0.139285  0.616985\n",
       "9  -1.454545   2.454545  0.136085  0.139035  0.619160\n",
       "10 -1.393939   2.393939  0.136232  0.138795  0.621294\n",
       "11 -1.333333   2.333333  0.136380  0.138566  0.623384\n",
       "12 -1.272727   2.272727  0.136528  0.138349  0.625431\n",
       "13 -1.212121   2.212121  0.136675  0.138143  0.627432\n",
       "14 -1.151515   2.151515  0.136823  0.137948  0.629389\n",
       "15 -1.090909   2.090909  0.136971  0.137765  0.631298\n",
       "16 -1.030303   2.030303  0.137118  0.137593  0.633160\n",
       "17 -0.969697   1.969697  0.137266  0.137433  0.634974\n",
       "18 -0.909091   1.909091  0.137414  0.137284  0.636739\n",
       "19 -0.848485   1.848485  0.137562  0.137146  0.638454\n",
       "20 -0.787879   1.787879  0.137709  0.137020  0.640119\n",
       "21 -0.727273   1.727273  0.137857  0.136906  0.641732\n",
       "22 -0.666667   1.666667  0.138005  0.136803  0.643293\n",
       "23 -0.606061   1.606061  0.138152  0.136712  0.644801\n",
       "24 -0.545455   1.545455  0.138300  0.136633  0.646256\n",
       "25 -0.484848   1.484848  0.138448  0.136565  0.647658\n",
       "26 -0.424242   1.424242  0.138595  0.136509  0.649005\n",
       "27 -0.363636   1.363636  0.138743  0.136465  0.650297\n",
       "28 -0.303030   1.303030  0.138891  0.136433  0.651534\n",
       "29 -0.242424   1.242424  0.139038  0.136412  0.652716\n",
       "..       ...        ...       ...       ...       ...\n",
       "70  2.242424  -1.242424  0.145093  0.145391  0.654051\n",
       "71  2.303030  -1.303030  0.145241  0.145834  0.653076\n",
       "72  2.363636  -1.363636  0.145389  0.146287  0.652063\n",
       "73  2.424242  -1.424242  0.145536  0.146750  0.651015\n",
       "74  2.484848  -1.484848  0.145684  0.147221  0.649932\n",
       "75  2.545455  -1.545455  0.145832  0.147703  0.648815\n",
       "76  2.606061  -1.606061  0.145979  0.148193  0.647664\n",
       "77  2.666667  -1.666667  0.146127  0.148693  0.646481\n",
       "78  2.727273  -1.727273  0.146275  0.149201  0.645267\n",
       "79  2.787879  -1.787879  0.146422  0.149719  0.644022\n",
       "80  2.848485  -1.848485  0.146570  0.150245  0.642748\n",
       "81  2.909091  -1.909091  0.146718  0.150781  0.641446\n",
       "82  2.969697  -1.969697  0.146865  0.151325  0.640115\n",
       "83  3.030303  -2.030303  0.147013  0.151877  0.638759\n",
       "84  3.090909  -2.090909  0.147161  0.152439  0.637376\n",
       "85  3.151515  -2.151515  0.147308  0.153008  0.635968\n",
       "86  3.212121  -2.212121  0.147456  0.153586  0.634537\n",
       "87  3.272727  -2.272727  0.147604  0.154172  0.633082\n",
       "88  3.333333  -2.333333  0.147751  0.154767  0.631605\n",
       "89  3.393939  -2.393939  0.147899  0.155369  0.630107\n",
       "90  3.454545  -2.454545  0.148047  0.155979  0.628588\n",
       "91  3.515152  -2.515152  0.148194  0.156598  0.627050\n",
       "92  3.575758  -2.575758  0.148342  0.157223  0.625493\n",
       "93  3.636364  -2.636364  0.148490  0.157857  0.623918\n",
       "94  3.696970  -2.696970  0.148638  0.158498  0.622325\n",
       "95  3.757576  -2.757576  0.148785  0.159147  0.620717\n",
       "96  3.818182  -2.818182  0.148933  0.159803  0.619092\n",
       "97  3.878788  -2.878788  0.149081  0.160467  0.617453\n",
       "98  3.939394  -2.939394  0.149228  0.161137  0.615800\n",
       "99  4.000000  -3.000000  0.149376  0.161815  0.614133\n",
       "\n",
       "[100 rows x 5 columns]"
      ]
     },
     "execution_count": 21,
     "metadata": {},
     "output_type": "execute_result"
    }
   ],
   "source": [
    "# DataFrame de portafolios: \n",
    "# 1. Índice: i\n",
    "# 2. Columnas 1-2: w, 1-w\n",
    "# 3. Columnas 3-4: E[r], sigma\n",
    "# 4. Columna 5: Sharpe ratio\n",
    "frontera = pd.DataFrame(columns=['w(EMV)', 'w(minvar)', 'E[r]', 'sigma', 'R.S.'])\n",
    "frontera['w(EMV)'] = w\n",
    "frontera['w(minvar)'] = 1-w\n",
    "frontera['E[r]'] = w*Er_EMV +(1-w)*Er_minvar\n",
    "frontera['sigma'] = np.sqrt((w*s_EMV)**2 + ((1-w)*s_minvar)**2 + 2*w*(1-w)*cov)\n",
    "frontera['R.S.'] = (frontera['E[r]']-rf)/frontera['sigma']\n",
    "frontera\n"
   ]
  },
  {
   "cell_type": "code",
   "execution_count": 22,
   "metadata": {
    "collapsed": true
   },
   "outputs": [],
   "source": [
    "# Importar librerías de gráficos\n",
    "import matplotlib.pyplot as plt"
   ]
  },
  {
   "cell_type": "code",
   "execution_count": 24,
   "metadata": {},
   "outputs": [
    {
     "data": {
      "text/plain": [
       "<matplotlib.figure.Figure at 0x10ea6c6a0>"
      ]
     },
     "metadata": {},
     "output_type": "display_data"
    },
    {
     "data": {
      "image/png": "[encoded data removed]",
      "text/plain": [
       "<matplotlib.figure.Figure at 0x115659940>"
      ]
     },
     "metadata": {},
     "output_type": "display_data"
    },
    {
     "data": {
      "image/png": "[encoded data removed]",
      "text/plain": [
       "<matplotlib.figure.Figure at 0x115b7f780>"
      ]
     },
     "metadata": {},
     "output_type": "display_data"
    }
   ],
   "source": [
    "# Gráfica de dispersión de puntos coloreando \n",
    "# de acuerdo a SR\n",
    "plt.figure(figsize=(10,7))\n",
    "plt.scatter(frontera['sigma'], frontera['E[r]'], c = frontera['R.S.'], cmap='RdYlBu') #frontera de min var de n activos\n",
    "plt.plot(annual_ret_summ.loc['Volatilidad'], annual_ret_summ.loc['Media'], 'og') #activos individuales\n",
    "plt.plot(s_minvar, Er_minvar, '*r') #portafolios de minvar y EMV\n",
    "plt.plot(s_EMV, Er_EMV, '*w')\n",
    "plt.colorbar()\n",
    "plt.show()"
   ]
  },
  {
   "cell_type": "markdown",
   "metadata": {},
   "source": [
    "**A partir de lo anterior, solo restaría construir la LAC y elegir la distribución de capital de acuerdo a las preferencias (aversión al riesgo).**\n",
    "___"
   ]
  },
  {
   "cell_type": "markdown",
   "metadata": {},
   "source": [
    "## 3. Comentarios finales\n",
    "\n",
    "### 3.1. Restricciones adicionales\n",
    "\n",
    "Los inversionistas pueden tener restricciones adicionales:\n",
    "1. Restricciones en posiciones cortas.\n",
    "2. Pueden requerir un rendimiento mínimo.\n",
    "3. Inversión socialmente responsable: prescinden de inversiones en negocios o paises considerados éticamente o políticamente indeseables.\n",
    "\n",
    "Todo lo anterior se puede incluir como restricciones en el problema de optimización, y puede ser llevado a cabo a costa de un cociente de Sharpe menor."
   ]
  },
  {
   "cell_type": "markdown",
   "metadata": {},
   "source": [
    "### 3.2. Críticas a la optimización media varianza\n",
    "1. Solo importan medias y varianzas: recordar que la varianza subestima el riesgo en algunos casos.\n",
    "2. Preferencias media-varianza tratan las ganancias y pérdidas simétricamente: el sentimiento de insatisfacción de una perdida es mayor al sentimiento de satisfacción de una ganancia (aversión a pérdidas).\n",
    "3. La aversión al riesgo es constante: la actitud frente al riesgo puede cambiar, por ejemplo con el estado de la economía.\n",
    "4. Horizonte corto (un periodo).\n",
    "5. Basura entra - basura sale: la optimización media varianza es supremamente sensible a las entradas: estimaciones de rendimientos esperados y varianzas.\n",
    "___"
   ]
  },
  {
   "cell_type": "markdown",
   "metadata": {},
   "source": [
    "# Anuncios parroquiales\n",
    "\n",
    "## 1. Revisar archivo Tarea 6.\n",
    "## 2. Fin de módulo. Abrir Clase0 y revisar objetivos del módulo.\n",
    "## 3. [Nota interesante](http://yetanothermathprogrammingconsultant.blogspot.com/2016/08/portfolio-optimization-maximize-sharpe.html)"
   ]
  },
  {
   "cell_type": "markdown",
   "metadata": {},
   "source": [
    "<script>\n",
    "  $(document).ready(function(){\n",
    "    $('div.prompt').hide();\n",
    "    $('div.back-to-top').hide();\n",
    "    $('nav#menubar').hide();\n",
    "    $('.breadcrumb').hide();\n",
    "    $('.hidden-print').hide();\n",
    "  });\n",
    "</script>\n",
    "\n",
    "<footer id=\"attribution\" style=\"float:right; color:#808080; background:#fff;\">\n",
    "Created with Jupyter by Esteban Jiménez Rodríguez.\n",
    "</footer>"
   ]
  }
 ],
 "metadata": {
  "kernelspec": {
   "display_name": "Python 3",
   "language": "python",
   "name": "python3"
  },
  "language_info": {
   "codemirror_mode": {
    "name": "ipython",
    "version": 3
   },
   "file_extension": ".py",
   "mimetype": "text/x-python",
   "name": "python",
   "nbconvert_exporter": "python",
   "pygments_lexer": "ipython3",
   "version": "3.6.1"
  }
 },
 "nbformat": 4,
 "nbformat_minor": 2
}
