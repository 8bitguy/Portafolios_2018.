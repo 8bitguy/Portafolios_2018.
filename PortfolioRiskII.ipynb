{
 "cells": [
  {
   "cell_type": "markdown",
   "metadata": {},
   "source": [
    "# ¿Cómo medir rendimiento y riesgo en un portafolio? II\n",
    "\n",
    "<img style=\"float: right; margin: 0px 0px 15px 15px;\" src=\"http://www.picpedia.org/clipboard/images/stock-portfolio.jpg\" width=\"600px\" height=\"400px\" />\n",
    "\n",
    "> La clase pasada y la presente, están dedicadas a obtener medidas de rendimiento y riesgo en un portafolio.\n",
    "\n",
    "> Vimos que podemos obtener los rendimientos de un portafolio mediante la relación\n",
    "\n",
    "$r_p=\\sum_{i=1}^{n}w_ir_i$\n",
    "\n",
    ", y una vez teniendo los rendimientos del portafolio, lo podemos tratar como un activo individual.\n",
    "\n",
    "> Por otra parte, vimos que si conocemos los rendimientos esperados de cada activo que conforma el portafolio $E[r_i]$, podemos calcular el rendimiento esperado del portafolio como el promedio ponderado de los rendimientos esperados de los activos\n",
    "\n",
    "$E[r_p]=\\sum_{i=1}^{n}w_iE[r_i]$.\n",
    "\n",
    "> Sin embargo, vimos que esto no es válido para la medida de riesgo (desviación estándar). Es decir, la varianza (o volatilidad, o desviación estándar) no es el promedio ponderado de las varianzas individuales. Anticipamos que esto es clave en el concepto de **diversificación**."
   ]
  },
  {
   "cell_type": "markdown",
   "metadata": {},
   "source": [
    "**Objetivos:**\n",
    "- Medir el riesgo en un portafolio a partir del riesgo de cada uno de los activos que lo conforman.\n",
    "\n",
    "\n",
    "*Referencias*\n",
    "- Notas del curso \"Portfolio Selection and Risk Management\", Rice University, disponible en Coursera.\n",
    "___"
   ]
  },
  {
   "cell_type": "markdown",
   "metadata": {},
   "source": [
    "## 1. Midiendo el riesgo en un portafolio\n",
    "\n",
    "### 1.1. Volatilidad de un portafolio\n",
    "\n",
    "Retomamos el ejemplo qur veníamos trabajando la clase pasada..."
   ]
  },
  {
   "cell_type": "markdown",
   "metadata": {},
   "source": [
    "**Ejemplo.** Supongamos que tenemos inversión en activos de Toyota, Walmart y Pfizer. Tenemos cuatro posibles estados económicos:"
   ]
  },
  {
   "cell_type": "code",
   "execution_count": null,
   "metadata": {
    "collapsed": true
   },
   "outputs": [],
   "source": [
    "import numpy as np\n",
    "import pandas as pd"
   ]
  },
  {
   "cell_type": "code",
   "execution_count": null,
   "metadata": {
    "collapsed": true
   },
   "outputs": [],
   "source": [
    "# Creamos tabla\n",
    "tabla = pd.DataFrame(columns=['Prob', 'Toyota', 'Walmart', 'Pfizer'], index=['Expansion', 'Normal', 'Recesion'])\n",
    "tabla.index.name = 'Estado'\n",
    "tabla['Prob']=np.array([0.3, 0.4, 0.3])\n",
    "tabla['Toyota']=np.array([-.20, 0.05, 0.4])\n",
    "tabla['Walmart']=np.array([-0.05, 0.10, 0.15])\n",
    "tabla['Pfizer']=np.array([0.05, 0.03, 0.02])\n",
    "\n",
    "tabla.round(4)"
   ]
  },
  {
   "cell_type": "code",
   "execution_count": null,
   "metadata": {
    "collapsed": true
   },
   "outputs": [],
   "source": [
    "# Incluimos una fila para rendimientos esperados\n",
    "tabla.loc['Rend_Esp']=np.array([None, np.sum(tabla.Prob*tabla.Toyota),\n",
    "                               np.sum(tabla.Prob*tabla.Walmart),\n",
    "                               np.sum(tabla.Prob*tabla.Pfizer)\n",
    "                               ])\n",
    "tabla.round(4)"
   ]
  },
  {
   "cell_type": "code",
   "execution_count": 79,
   "metadata": {},
   "outputs": [
    {
     "data": {
      "text/plain": [
       "(0.040174618853201331, 0.024088378940891809, 0.051110175112202463)"
      ]
     },
     "execution_count": 79,
     "metadata": {},
     "output_type": "execute_result"
    }
   ],
   "source": [
    "## Volatilidad DESV EST -> raíz de varianza (STANDARD DEV)\n",
    "            #(en el caso de [:4] se indica que es tomar los 1ero 4)\n",
    "# Toyota\n",
    "stdT=np.sqrt(np.sum(tabla.Prob[:4]*(tabla.Toyota[:4]-tabla.Toyota[4])**2))\n",
    "# Walmart\n",
    "stdW=np.sqrt(np.sum(tabla.Prob[:4]*(tabla.Walmart[:4]-tabla.Walmart[4])**2))\n",
    "# Pfizer\n",
    "stdP=np.sqrt(np.sum(tabla.Prob[:4]*(tabla.Pfizer[:4]-tabla.Pfizer[4])**2))\n",
    "\n",
    "stdT, stdW, stdP\n"
   ]
  },
  {
   "cell_type": "code",
   "execution_count": 15,
   "metadata": {},
   "outputs": [
    {
     "data": {
      "text/html": [
       "<div>\n",
       "<style>\n",
       "    .dataframe thead tr:only-child th {\n",
       "        text-align: right;\n",
       "    }\n",
       "\n",
       "    .dataframe thead th {\n",
       "        text-align: left;\n",
       "    }\n",
       "\n",
       "    .dataframe tbody tr th {\n",
       "        vertical-align: top;\n",
       "    }\n",
       "</style>\n",
       "<table border=\"1\" class=\"dataframe\">\n",
       "  <thead>\n",
       "    <tr style=\"text-align: right;\">\n",
       "      <th></th>\n",
       "      <th>Prob</th>\n",
       "      <th>Toyota</th>\n",
       "      <th>Walmart</th>\n",
       "      <th>Pfizer</th>\n",
       "      <th>Port_TP</th>\n",
       "    </tr>\n",
       "    <tr>\n",
       "      <th>Estado</th>\n",
       "      <th></th>\n",
       "      <th></th>\n",
       "      <th></th>\n",
       "      <th></th>\n",
       "      <th></th>\n",
       "    </tr>\n",
       "  </thead>\n",
       "  <tbody>\n",
       "    <tr>\n",
       "      <th>Expansion</th>\n",
       "      <td>0.1</td>\n",
       "      <td>0.060</td>\n",
       "      <td>0.0450</td>\n",
       "      <td>0.0250</td>\n",
       "      <td>0.0425</td>\n",
       "    </tr>\n",
       "    <tr>\n",
       "      <th>Normal</th>\n",
       "      <td>0.4</td>\n",
       "      <td>0.075</td>\n",
       "      <td>0.0550</td>\n",
       "      <td>-0.0050</td>\n",
       "      <td>0.0350</td>\n",
       "    </tr>\n",
       "    <tr>\n",
       "      <th>Recesion</th>\n",
       "      <td>0.3</td>\n",
       "      <td>0.020</td>\n",
       "      <td>0.0400</td>\n",
       "      <td>0.0100</td>\n",
       "      <td>0.0150</td>\n",
       "    </tr>\n",
       "    <tr>\n",
       "      <th>Depresion</th>\n",
       "      <td>0.2</td>\n",
       "      <td>-0.030</td>\n",
       "      <td>-0.0100</td>\n",
       "      <td>0.1300</td>\n",
       "      <td>0.0500</td>\n",
       "    </tr>\n",
       "    <tr>\n",
       "      <th>Rend_Esp</th>\n",
       "      <td>NaN</td>\n",
       "      <td>0.036</td>\n",
       "      <td>0.0365</td>\n",
       "      <td>0.0295</td>\n",
       "      <td>0.0328</td>\n",
       "    </tr>\n",
       "  </tbody>\n",
       "</table>\n",
       "</div>"
      ],
      "text/plain": [
       "           Prob  Toyota  Walmart  Pfizer  Port_TP\n",
       "Estado                                           \n",
       "Expansion   0.1   0.060   0.0450  0.0250   0.0425\n",
       "Normal      0.4   0.075   0.0550 -0.0050   0.0350\n",
       "Recesion    0.3   0.020   0.0400  0.0100   0.0150\n",
       "Depresion   0.2  -0.030  -0.0100  0.1300   0.0500\n",
       "Rend_Esp    NaN   0.036   0.0365  0.0295   0.0328"
      ]
     },
     "execution_count": 15,
     "metadata": {},
     "output_type": "execute_result"
    }
   ],
   "source": [
    "# Portafolio 0.5Toyota+0.5Pfizer\n",
    "tabla['Port_TP']=0.5*tabla.Toyota+0.5*tabla.Pfizer\n",
    "tabla.round(4)"
   ]
  },
  {
   "cell_type": "code",
   "execution_count": 18,
   "metadata": {},
   "outputs": [
    {
     "data": {
      "text/plain": [
       "0.012867109232457772"
      ]
     },
     "execution_count": 18,
     "metadata": {},
     "output_type": "execute_result"
    }
   ],
   "source": [
    "# Volatilidad del portafolio\n",
    "stdPort_TP= stdT=np.sqrt(np.sum(tabla.Prob[:4]*(tabla.Port_TP[:4]-tabla.Port_TP[4])**2))\n",
    "stdPort_TP"
   ]
  },
  {
   "cell_type": "markdown",
   "metadata": {},
   "source": [
    "**Actividad.** Encontrar la volatilidad del portafolio formado $0.5$ Toyota y $0.5$ Walmart."
   ]
  },
  {
   "cell_type": "code",
   "execution_count": 25,
   "metadata": {},
   "outputs": [
    {
     "data": {
      "text/html": [
       "<div>\n",
       "<style>\n",
       "    .dataframe thead tr:only-child th {\n",
       "        text-align: right;\n",
       "    }\n",
       "\n",
       "    .dataframe thead th {\n",
       "        text-align: left;\n",
       "    }\n",
       "\n",
       "    .dataframe tbody tr th {\n",
       "        vertical-align: top;\n",
       "    }\n",
       "</style>\n",
       "<table border=\"1\" class=\"dataframe\">\n",
       "  <thead>\n",
       "    <tr style=\"text-align: right;\">\n",
       "      <th></th>\n",
       "      <th>Prob</th>\n",
       "      <th>Toyota</th>\n",
       "      <th>Walmart</th>\n",
       "      <th>Pfizer</th>\n",
       "      <th>Port_TP</th>\n",
       "      <th>Port_TW</th>\n",
       "    </tr>\n",
       "    <tr>\n",
       "      <th>Estado</th>\n",
       "      <th></th>\n",
       "      <th></th>\n",
       "      <th></th>\n",
       "      <th></th>\n",
       "      <th></th>\n",
       "      <th></th>\n",
       "    </tr>\n",
       "  </thead>\n",
       "  <tbody>\n",
       "    <tr>\n",
       "      <th>Expansion</th>\n",
       "      <td>0.1</td>\n",
       "      <td>0.060</td>\n",
       "      <td>0.0450</td>\n",
       "      <td>0.0250</td>\n",
       "      <td>0.0425</td>\n",
       "      <td>0.0525</td>\n",
       "    </tr>\n",
       "    <tr>\n",
       "      <th>Normal</th>\n",
       "      <td>0.4</td>\n",
       "      <td>0.075</td>\n",
       "      <td>0.0550</td>\n",
       "      <td>-0.0050</td>\n",
       "      <td>0.0350</td>\n",
       "      <td>0.0650</td>\n",
       "    </tr>\n",
       "    <tr>\n",
       "      <th>Recesion</th>\n",
       "      <td>0.3</td>\n",
       "      <td>0.020</td>\n",
       "      <td>0.0400</td>\n",
       "      <td>0.0100</td>\n",
       "      <td>0.0150</td>\n",
       "      <td>0.0300</td>\n",
       "    </tr>\n",
       "    <tr>\n",
       "      <th>Depresion</th>\n",
       "      <td>0.2</td>\n",
       "      <td>-0.030</td>\n",
       "      <td>-0.0100</td>\n",
       "      <td>0.1300</td>\n",
       "      <td>0.0500</td>\n",
       "      <td>-0.0200</td>\n",
       "    </tr>\n",
       "    <tr>\n",
       "      <th>Rend_Esp</th>\n",
       "      <td>NaN</td>\n",
       "      <td>0.036</td>\n",
       "      <td>0.0365</td>\n",
       "      <td>0.0295</td>\n",
       "      <td>0.0328</td>\n",
       "      <td>0.0363</td>\n",
       "    </tr>\n",
       "  </tbody>\n",
       "</table>\n",
       "</div>"
      ],
      "text/plain": [
       "           Prob  Toyota  Walmart  Pfizer  Port_TP  Port_TW\n",
       "Estado                                                    \n",
       "Expansion   0.1   0.060   0.0450  0.0250   0.0425   0.0525\n",
       "Normal      0.4   0.075   0.0550 -0.0050   0.0350   0.0650\n",
       "Recesion    0.3   0.020   0.0400  0.0100   0.0150   0.0300\n",
       "Depresion   0.2  -0.030  -0.0100  0.1300   0.0500  -0.0200\n",
       "Rend_Esp    NaN   0.036   0.0365  0.0295   0.0328   0.0363"
      ]
     },
     "execution_count": 25,
     "metadata": {},
     "output_type": "execute_result"
    }
   ],
   "source": [
    "# Encontrar los rendimientos del portafolio en cada estado de la economía\n",
    "tabla['Port_TW']=0.5*tabla.Toyota+0.5*tabla.Walmart\n",
    "tabla.round(4)"
   ]
  },
  {
   "cell_type": "code",
   "execution_count": 30,
   "metadata": {},
   "outputs": [
    {
     "data": {
      "text/plain": [
       "0.036250000000000004"
      ]
     },
     "execution_count": 30,
     "metadata": {},
     "output_type": "execute_result"
    }
   ],
   "source": [
    "# Encontrar el rendimiento esperado del portafolio\n",
    "    # Se da solo con la tabla el cáluclo del rend. esp.\n",
    "tabla.Port_TW[-1]"
   ]
  },
  {
   "cell_type": "code",
   "execution_count": 22,
   "metadata": {},
   "outputs": [
    {
     "data": {
      "text/plain": [
       "0.031647472252930409"
      ]
     },
     "execution_count": 22,
     "metadata": {},
     "output_type": "execute_result"
    }
   ],
   "source": [
    "# Encontrar la volatilidad de Toyota, Walmart y el portafolio\n",
    "stdPort_TW= stdT=np.sqrt(np.sum(tabla.Prob[:4]*(tabla.Port_TW[:4]-tabla.Port_TW[4])**2))\n",
    "stdPort_TW"
   ]
  },
  {
   "cell_type": "markdown",
   "metadata": {},
   "source": [
    "### 1.2. Midiendo el co-movimiento entre instrumentos\n",
    "\n",
    "- Una vez más, concluimos que la volatilidad (varianza) **NO** es el promedio ponderado de las varianzas individales.\n",
    "\n",
    "- Por el contrario, la varianza de los rendimientos de un portafolio está afectada por el movimiento relativo de un activo individual respecto a otro.\n",
    "\n",
    "- Por tanto, necesitamos definir las medidas de **covarianza** y **correlación**, que nos permiten evaluar las fluctuaciones relativas entre los activos."
   ]
  },
  {
   "cell_type": "markdown",
   "metadata": {},
   "source": [
    "#### Covarianza:\n",
    "\n",
    "Es una medida el movimiento relativo entre dos instrumentos.\n",
    "\n",
    "Matemáticamente, si tenemos dos activos $A_1$ y $A_2$ cuyos rendimientos son $r_1$ y $r_2$, respectivamente, entonces la covarianza de los rendimientos de los activos es\n",
    "\n",
    "$$\\text{cov}(r_1,r_2)=\\sigma_{12}=\\sigma_{21}=\\sum_{j=1}^{m}p_j(r_{1j}-E[r_1])(r_{2j}-E[r_2]).$$"
   ]
  },
  {
   "cell_type": "markdown",
   "metadata": {},
   "source": [
    "Podemos notar fácilmente que la covarianza de los rendimientos de un activo con los rendimientos del mismo activo corresponde a la varianza\n",
    "\n",
    "$$\\text{cov}(r_1,r_1)=\\sigma_{11}=\\sum_{j=1}^{m} p_j(r_{1j}-E[r_1])(r_{1j}-E[r_1])=\\sigma_1^2=\\text{var}(r_1).$$"
   ]
  },
  {
   "cell_type": "markdown",
   "metadata": {},
   "source": [
    "**Ejemplo.** Calcular la covarianza entre los rendimientos de Toyota y Pfizer."
   ]
  },
  {
   "cell_type": "code",
   "execution_count": 31,
   "metadata": {},
   "outputs": [
    {
     "data": {
      "text/html": [
       "<div>\n",
       "<style>\n",
       "    .dataframe thead tr:only-child th {\n",
       "        text-align: right;\n",
       "    }\n",
       "\n",
       "    .dataframe thead th {\n",
       "        text-align: left;\n",
       "    }\n",
       "\n",
       "    .dataframe tbody tr th {\n",
       "        vertical-align: top;\n",
       "    }\n",
       "</style>\n",
       "<table border=\"1\" class=\"dataframe\">\n",
       "  <thead>\n",
       "    <tr style=\"text-align: right;\">\n",
       "      <th></th>\n",
       "      <th>Prob</th>\n",
       "      <th>Toyota</th>\n",
       "      <th>Walmart</th>\n",
       "      <th>Pfizer</th>\n",
       "      <th>Port_TP</th>\n",
       "      <th>Port_TW</th>\n",
       "    </tr>\n",
       "    <tr>\n",
       "      <th>Estado</th>\n",
       "      <th></th>\n",
       "      <th></th>\n",
       "      <th></th>\n",
       "      <th></th>\n",
       "      <th></th>\n",
       "      <th></th>\n",
       "    </tr>\n",
       "  </thead>\n",
       "  <tbody>\n",
       "    <tr>\n",
       "      <th>Expansion</th>\n",
       "      <td>0.1</td>\n",
       "      <td>0.060</td>\n",
       "      <td>0.0450</td>\n",
       "      <td>0.0250</td>\n",
       "      <td>0.0425</td>\n",
       "      <td>0.0525</td>\n",
       "    </tr>\n",
       "    <tr>\n",
       "      <th>Normal</th>\n",
       "      <td>0.4</td>\n",
       "      <td>0.075</td>\n",
       "      <td>0.0550</td>\n",
       "      <td>-0.0050</td>\n",
       "      <td>0.0350</td>\n",
       "      <td>0.0650</td>\n",
       "    </tr>\n",
       "    <tr>\n",
       "      <th>Recesion</th>\n",
       "      <td>0.3</td>\n",
       "      <td>0.020</td>\n",
       "      <td>0.0400</td>\n",
       "      <td>0.0100</td>\n",
       "      <td>0.0150</td>\n",
       "      <td>0.0300</td>\n",
       "    </tr>\n",
       "    <tr>\n",
       "      <th>Depresion</th>\n",
       "      <td>0.2</td>\n",
       "      <td>-0.030</td>\n",
       "      <td>-0.0100</td>\n",
       "      <td>0.1300</td>\n",
       "      <td>0.0500</td>\n",
       "      <td>-0.0200</td>\n",
       "    </tr>\n",
       "    <tr>\n",
       "      <th>Rend_Esp</th>\n",
       "      <td>NaN</td>\n",
       "      <td>0.036</td>\n",
       "      <td>0.0365</td>\n",
       "      <td>0.0295</td>\n",
       "      <td>0.0328</td>\n",
       "      <td>0.0363</td>\n",
       "    </tr>\n",
       "  </tbody>\n",
       "</table>\n",
       "</div>"
      ],
      "text/plain": [
       "           Prob  Toyota  Walmart  Pfizer  Port_TP  Port_TW\n",
       "Estado                                                    \n",
       "Expansion   0.1   0.060   0.0450  0.0250   0.0425   0.0525\n",
       "Normal      0.4   0.075   0.0550 -0.0050   0.0350   0.0650\n",
       "Recesion    0.3   0.020   0.0400  0.0100   0.0150   0.0300\n",
       "Depresion   0.2  -0.030  -0.0100  0.1300   0.0500  -0.0200\n",
       "Rend_Esp    NaN   0.036   0.0365  0.0295   0.0328   0.0363"
      ]
     },
     "execution_count": 31,
     "metadata": {},
     "output_type": "execute_result"
    }
   ],
   "source": [
    "# Mostrar tabla\n",
    "tabla.round(4)"
   ]
  },
  {
   "cell_type": "code",
   "execution_count": 76,
   "metadata": {},
   "outputs": [
    {
     "data": {
      "text/plain": [
       "-0.0017820000000000004"
      ]
     },
     "execution_count": 76,
     "metadata": {},
     "output_type": "execute_result"
    }
   ],
   "source": [
    "# Calcular la covarianza\n",
    "cov_TP= np.sum(tabla.Prob[:4]*(tabla.Toyota[:4]-tabla.Toyota[4])\n",
    "                             *(tabla.Pfizer[:4]-tabla.Pfizer[4]))\n",
    "cov_TP"
   ]
  },
  {
   "cell_type": "markdown",
   "metadata": {},
   "source": [
    "**Actividad.** Calcular la covarianza entre los rendimientos de Toyota y Walmart."
   ]
  },
  {
   "cell_type": "code",
   "execution_count": 77,
   "metadata": {},
   "outputs": [
    {
     "data": {
      "text/html": [
       "<div>\n",
       "<style>\n",
       "    .dataframe thead tr:only-child th {\n",
       "        text-align: right;\n",
       "    }\n",
       "\n",
       "    .dataframe thead th {\n",
       "        text-align: left;\n",
       "    }\n",
       "\n",
       "    .dataframe tbody tr th {\n",
       "        vertical-align: top;\n",
       "    }\n",
       "</style>\n",
       "<table border=\"1\" class=\"dataframe\">\n",
       "  <thead>\n",
       "    <tr style=\"text-align: right;\">\n",
       "      <th></th>\n",
       "      <th>Prob</th>\n",
       "      <th>Toyota</th>\n",
       "      <th>Walmart</th>\n",
       "      <th>Pfizer</th>\n",
       "      <th>Port_TP</th>\n",
       "      <th>Port_TW</th>\n",
       "    </tr>\n",
       "    <tr>\n",
       "      <th>Estado</th>\n",
       "      <th></th>\n",
       "      <th></th>\n",
       "      <th></th>\n",
       "      <th></th>\n",
       "      <th></th>\n",
       "      <th></th>\n",
       "    </tr>\n",
       "  </thead>\n",
       "  <tbody>\n",
       "    <tr>\n",
       "      <th>Expansion</th>\n",
       "      <td>0.1</td>\n",
       "      <td>0.060</td>\n",
       "      <td>0.0450</td>\n",
       "      <td>0.0250</td>\n",
       "      <td>0.0425</td>\n",
       "      <td>0.0525</td>\n",
       "    </tr>\n",
       "    <tr>\n",
       "      <th>Normal</th>\n",
       "      <td>0.4</td>\n",
       "      <td>0.075</td>\n",
       "      <td>0.0550</td>\n",
       "      <td>-0.0050</td>\n",
       "      <td>0.0350</td>\n",
       "      <td>0.0650</td>\n",
       "    </tr>\n",
       "    <tr>\n",
       "      <th>Recesion</th>\n",
       "      <td>0.3</td>\n",
       "      <td>0.020</td>\n",
       "      <td>0.0400</td>\n",
       "      <td>0.0100</td>\n",
       "      <td>0.0150</td>\n",
       "      <td>0.0300</td>\n",
       "    </tr>\n",
       "    <tr>\n",
       "      <th>Depresion</th>\n",
       "      <td>0.2</td>\n",
       "      <td>-0.030</td>\n",
       "      <td>-0.0100</td>\n",
       "      <td>0.1300</td>\n",
       "      <td>0.0500</td>\n",
       "      <td>-0.0200</td>\n",
       "    </tr>\n",
       "    <tr>\n",
       "      <th>Rend_Esp</th>\n",
       "      <td>NaN</td>\n",
       "      <td>0.036</td>\n",
       "      <td>0.0365</td>\n",
       "      <td>0.0295</td>\n",
       "      <td>0.0328</td>\n",
       "      <td>0.0363</td>\n",
       "    </tr>\n",
       "  </tbody>\n",
       "</table>\n",
       "</div>"
      ],
      "text/plain": [
       "           Prob  Toyota  Walmart  Pfizer  Port_TP  Port_TW\n",
       "Estado                                                    \n",
       "Expansion   0.1   0.060   0.0450  0.0250   0.0425   0.0525\n",
       "Normal      0.4   0.075   0.0550 -0.0050   0.0350   0.0650\n",
       "Recesion    0.3   0.020   0.0400  0.0100   0.0150   0.0300\n",
       "Depresion   0.2  -0.030  -0.0100  0.1300   0.0500  -0.0200\n",
       "Rend_Esp    NaN   0.036   0.0365  0.0295   0.0328   0.0363"
      ]
     },
     "execution_count": 77,
     "metadata": {},
     "output_type": "execute_result"
    }
   ],
   "source": [
    "# Mostrar tabla\n",
    "tabla.round(4)"
   ]
  },
  {
   "cell_type": "code",
   "execution_count": 78,
   "metadata": {},
   "outputs": [
    {
     "data": {
      "text/plain": [
       "0.0009060000000000001"
      ]
     },
     "execution_count": 78,
     "metadata": {},
     "output_type": "execute_result"
    }
   ],
   "source": [
    "# Calcular la covarianza\n",
    "cov_TW= np.sum(tabla.Prob[:4]*(tabla.Toyota[:4]-tabla.Toyota[4])\n",
    "                             *(tabla.Walmart[:4]-tabla.Walmart[4]))\n",
    "cov_TW"
   ]
  },
  {
   "cell_type": "markdown",
   "metadata": {},
   "source": [
    "**¿Qué nos dice este número?**\n",
    "- El signo nos dice la dirección relativa entre los rendimientos de cada activo. Por ejemplo, la covarianza entre los rendimientos de Toyota y Pfizer es negativa... ver rendimientos.\n",
    "- La magnitud de la covarianza no dice mucho acerca de la fuerza de relación estos rendimientos. "
   ]
  },
  {
   "cell_type": "markdown",
   "metadata": {},
   "source": [
    "**Correlación**\n",
    "Un posible problema de la covarianza es que la magnitud de esta medida no nos dice mucho acerca de la fuerza de los movimientos relativos. La *correlación* es una medida normalizada del movimiento relativo entre los rendimientos de dos activos.\n",
    "\n",
    "Matemáticamente,\n",
    "\n",
    "$$\\text{corr}(r_1,r_2)=\\rho_{12}=\\rho_{21}=\\frac{\\sigma_{12}}{\\sigma_1\\sigma_{2}}.$$"
   ]
  },
  {
   "cell_type": "markdown",
   "metadata": {},
   "source": [
    "Propiedades:\n",
    "\n",
    "- Podemos notar fácilmente que la correlación de los rendimientos de un activo con los rendimientos del mismo activo es $1$: $$\\text{corr}(r_1,r_1)=\\rho_{11}=\\frac{\\sigma_{11}}{\\sigma_1\\sigma_1}=\\frac{\\sigma_{1}^2}{\\sigma_1\\sigma_1}=1.$$\n",
    "- El signo de la correlación y la covarianza es el mismo.\n",
    "- La correlación satisface: $$-1\\leq\\rho_{12}\\leq 1.$$"
   ]
  },
  {
   "cell_type": "markdown",
   "metadata": {},
   "source": [
    "**Ejemplo.** Calcular la correlación entre los rendimientos de Toyota y Pfizer."
   ]
  },
  {
   "cell_type": "code",
   "execution_count": 80,
   "metadata": {},
   "outputs": [
    {
     "data": {
      "text/plain": [
       "-0.86785778896609023"
      ]
     },
     "execution_count": 80,
     "metadata": {},
     "output_type": "execute_result"
    }
   ],
   "source": [
    "corr_TP = cov_TP/(stdT*stdP)\n",
    "corr_TP"
   ]
  },
  {
   "cell_type": "markdown",
   "metadata": {},
   "source": [
    "**Actividad.** Calcular la correlación entre los rendimientos de Toyota y Walmart."
   ]
  },
  {
   "cell_type": "code",
   "execution_count": 81,
   "metadata": {},
   "outputs": [
    {
     "data": {
      "text/plain": [
       "0.93620047668219752"
      ]
     },
     "execution_count": 81,
     "metadata": {},
     "output_type": "execute_result"
    }
   ],
   "source": [
    "corr_TW = cov_TW/(stdT*stdW)\n",
    "corr_TW"
   ]
  },
  {
   "cell_type": "markdown",
   "metadata": {},
   "source": [
    "**Conclusión.**\n",
    "- Es una medida normalizada de la fluctuación relativa de los rendimientos de dos activos. \n",
    "- En los ejemplos vistos, sería conveniente invertir en el Portafolio T-P puesto que su correlación es negativa. Por lo tanto, impacta menos un movimiento súbito al otro, por lo tanto es mejor para diversificar riesgo. \n",
    "___"
   ]
  },
  {
   "cell_type": "markdown",
   "metadata": {},
   "source": [
    "## 2. Uniendo todo..."
   ]
  },
  {
   "cell_type": "markdown",
   "metadata": {},
   "source": [
    "- Entonces, vimos mediante ejemplos que el riesgo en un portafolio se ve afectado significativamente por como los rendimientos de los activos se mueven relativamente.\n",
    "- Este movimiento relativo lo medimos mediante la covarianza o la correlación.\n",
    "- Si se mueven de una manera que no están perfectamente correlacionados ($\\rho<1$), entonces el riesgo del portafolio siempre será menor que el promedio ponderado de los riesgos individuales."
   ]
  },
  {
   "cell_type": "markdown",
   "metadata": {},
   "source": [
    "<img style=\"float: left; margin: 0px 0px 15px 15px;\" src=\"https://www.publicdomainpictures.net/pictures/20000/velka/happy-child.jpg\" width=\"300px\" height=\"200px\" />\n",
    "\n",
    "## Ésta es la razón por la que combinar activos en un portafolio permite diversificar el riesgo..."
   ]
  },
  {
   "cell_type": "markdown",
   "metadata": {},
   "source": [
    "Entonces, ¿cómo podemos incorporar esta medida en el cálculo de la varianza del portafolio? \n",
    "- <font color=blue> Ver en el tablero...</font>\n",
    "- ¿Cómo sería para dos activos?"
   ]
  },
  {
   "cell_type": "markdown",
   "metadata": {},
   "source": [
    "**Ejemplo.** Calcular por fórmula para el portafolio de Toyota y Pfizer. Comparar.\n",
    "\n",
    "w2*Desvest2+w2*desvest2+2*w*w*desvest(ww)"
   ]
  },
  {
   "cell_type": "code",
   "execution_count": 82,
   "metadata": {},
   "outputs": [
    {
     "data": {
      "text/plain": [
       "0.012867109232457763"
      ]
     },
     "execution_count": 82,
     "metadata": {},
     "output_type": "execute_result"
    }
   ],
   "source": [
    "stdPort_TP2 = np.sqrt((0.5*stdT)**2+(0.5*stdP)**2+2*0.5*0.5*cov_TP)\n",
    "stdPort_TP2"
   ]
  },
  {
   "cell_type": "markdown",
   "metadata": {},
   "source": [
    "**Actividad.** Calcular por fórmula para el portafolio de Toyota y Walmart. Comparar."
   ]
  },
  {
   "cell_type": "code",
   "execution_count": 83,
   "metadata": {},
   "outputs": [
    {
     "data": {
      "text/plain": [
       "0.031647472252930409"
      ]
     },
     "execution_count": 83,
     "metadata": {},
     "output_type": "execute_result"
    }
   ],
   "source": [
    "stdPort_TW2 = np.sqrt((0.5*stdT)**2+(0.5*stdW)**2+2*0.5*0.5*cov_TW)\n",
    "stdPort_TW2"
   ]
  },
  {
   "cell_type": "markdown",
   "metadata": {},
   "source": [
    "## 2.1. <font color=blue> Ver en el tablero...</font>\n",
    "### Matriz de varianza covarianza.\n",
    "### Matriz de correlación."
   ]
  },
  {
   "cell_type": "markdown",
   "metadata": {},
   "source": [
    "# Anuncios parroquiales\n",
    "\n",
    "## 1. Recordar quiz la siguiente clase. Temas: Clases 7 y 8.\n",
    "## 2. Tarea: revisar archivo \"Tarea4_MidiendoRendimientoRiesgo\" en clase.\n",
    "## 3. A más tardar el miércoles antes de clase tengo la realimentación de la tarea 3."
   ]
  },
  {
   "cell_type": "markdown",
   "metadata": {},
   "source": [
    "<script>\n",
    "  $(document).ready(function(){\n",
    "    $('div.prompt').hide();\n",
    "    $('div.back-to-top').hide();\n",
    "    $('nav#menubar').hide();\n",
    "    $('.breadcrumb').hide();\n",
    "    $('.hidden-print').hide();\n",
    "  });\n",
    "</script>\n",
    "\n",
    "<footer id=\"attribution\" style=\"float:right; color:#808080; background:#fff;\">\n",
    "Created with Jupyter by Esteban Jiménez Rodríguez.\n",
    "</footer>"
   ]
  }
 ],
 "metadata": {
  "kernelspec": {
   "display_name": "Python 3",
   "language": "python",
   "name": "python3"
  },
  "language_info": {
   "codemirror_mode": {
    "name": "ipython",
    "version": 3
   },
   "file_extension": ".py",
   "mimetype": "text/x-python",
   "name": "python",
   "nbconvert_exporter": "python",
   "pygments_lexer": "ipython3",
   "version": "3.7.6"
  }
 },
 "nbformat": 4,
 "nbformat_minor": 2
}
