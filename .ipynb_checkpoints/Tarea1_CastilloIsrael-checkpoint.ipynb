{
 "cells": [
  {
   "cell_type": "markdown",
   "metadata": {},
   "source": [
    "<img src=\"itesologo.JPG\" style=\"width: 200px;\" align=\"left\" /> \n",
    "\n",
    "\n",
    "\n",
    "\n"
   ]
  },
  {
   "cell_type": "markdown",
   "metadata": {},
   "source": [
    "# Presentación Tarea 1 : \n",
    "\n",
    "# Israel Castillo Herrera\n",
    "\n",
    "### *21 años.*\n",
    "### *Ingeniería Financiera*"
   ]
  },
  {
   "cell_type": "markdown",
   "metadata": {},
   "source": [
    "*En esta lista voy a enumerar algunos detalles míos, incluyendo materias que ya he cursado:*\n",
    "\n",
    "* Me gusta coleccionar libros\n",
    "* Me gusta leer\n",
    "* Me gusta la música\n",
    "* Soy cantante de música de opera\n",
    "* Ingles/Francés/Italiano\n",
    "\n",
    "**Algunas materias ya cursadas:**\n",
    "\n",
    "1. Currículum\n",
    "    1. Bolsa de valores\n",
    "    2. Ingeniería Financiera\n",
    "    3. Simulación Financiera\n",
    "2. Matemáticas\n",
    "    1. Cálculo Diferencial\n",
    "    2. Cálculo Integral\n",
    "    3. Ecuaciones Diferenciales\n",
    "    4. Cálculo Multivariado \n",
    "3. Materias de Tronco Común\n",
    "    1. Super\n",
    "    2. Aburridas\n",
    "    3. E innecesarias\n",
    "\n"
   ]
  },
  {
   "cell_type": "markdown",
   "metadata": {},
   "source": [
    "### Ahora el resumen de los textos:\n",
    "\n",
    "<span style=\"color:red\">Primer texto:</span> \n",
    "*Python is becoming the world’s most popular coding language*\n",
    "\n",
    "\n"
   ]
  },
  {
   "cell_type": "code",
   "execution_count": null,
   "metadata": {
    "collapsed": true
   },
   "outputs": [],
   "source": []
  }
 ],
 "metadata": {
  "kernelspec": {
   "display_name": "Python 3",
   "language": "python",
   "name": "python3"
  },
  "language_info": {
   "codemirror_mode": {
    "name": "ipython",
    "version": 3
   },
   "file_extension": ".py",
   "mimetype": "text/x-python",
   "name": "python",
   "nbconvert_exporter": "python",
   "pygments_lexer": "ipython3",
   "version": "3.6.1"
  }
 },
 "nbformat": 4,
 "nbformat_minor": 2
}
